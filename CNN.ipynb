{
 "cells": [
  {
   "cell_type": "markdown",
   "metadata": {},
   "source": [
    "Name: Pujan Sharma</br>\n",
    "    ID: 1928447\n"
   ]
  },
  {
   "cell_type": "code",
   "execution_count": 3,
   "metadata": {},
   "outputs": [],
   "source": [
    "import tensorflow as tf\n",
    "from tensorflow.keras import layers\n",
    "from tensorflow.keras import preprocessing\n",
    "from tensorflow.keras import models\n",
    "from tensorflow.keras.layers import Conv2D\n",
    "from tensorflow.keras.layers import Dense\n",
    "from tensorflow.keras.layers import Flatten\n",
    "from tensorflow.keras.preprocessing import image\n",
    "from tensorflow.keras.layers import MaxPooling2D\n",
    "from tensorflow.keras.models import Sequential\n",
    "import numpy as np"
   ]
  },
  {
   "cell_type": "markdown",
   "metadata": {},
   "source": [
    "Here we are importing the required  libraries an packages.\n",
    "Tenserflow: TensorFlow is a Python-friendly open source library for numerical computation. TensorFlow bundles together a slew of machine learning and deep learning (aka neural networking) models and algorithms and makes them useful by way of a common metaphor.</br>\n",
    "\n",
    "keras: Keras is an high-level neural networks APIs</br>\n",
    "\n",
    "layers: It is used for forming different convulation layers</br>\n",
    "\n",
    "Conv2D from keras.layers: we’ve imported Conv2D from keras.layers to perform the convolution operation on training image</br>\n",
    "\n",
    "MaxPooling2D from keras.layers:we’ve imported MaxPooling2D from keras.layers for pooling operation, which is the step — 2 in the process of building a cnn</br>\n",
    "\n",
    "Flatten: we’ve imported Flatten from keras.layers, which is used for Flattening. It 2 dimensional arrays into a single long continuous linear vector.</br>\n",
    "\n",
    "Dense: It connects all the neural networks</br>\n",
    "\n",
    "Sequential: It is for initialising our cnn layer\n",
    "\n"
   ]
  },
  {
   "cell_type": "code",
   "execution_count": 4,
   "metadata": {},
   "outputs": [],
   "source": [
    "classifier = Sequential()\n",
    "\n",
    "# Convolution - extracting appropriate features from the input image.\n",
    "# Non-Linearity (RELU) - replacing all negative pixel values in feature map by zero.\n",
    "\n",
    "classifier.add(Conv2D(32, (2, 2), input_shape=(224, 224, 3),\n",
    "               activation='relu'))\n",
    "\n",
    "# Pooling: reduces dimensionality of the feature maps but keeps the most important information.\n",
    "\n",
    "classifier.add(MaxPooling2D(pool_size=(2, 2)))\n",
    "\n",
    "# Adding a second convolutional layer and flattening in order to arrange 3D volumes into a 1D vector.\n",
    "\n",
    "classifier.add(Conv2D(32, (2, 2), activation='relu'))\n",
    "classifier.add(MaxPooling2D(pool_size=(2, 2)))\n",
    "classifier.add(Flatten())\n",
    "\n",
    "# Fully connected layers: ensures connections to all activations in the previous layer.\n",
    "\n",
    "classifier.add(Dense(units=128, activation='relu'))\n",
    "classifier.add(Dense(units=1, activation='sigmoid'))"
   ]
  },
  {
   "cell_type": "markdown",
   "metadata": {},
   "source": [
    "classifier = Sequential(): It  initialise our neural network model as a sequential network. There are two basic ways of initialising a neural network, either by a sequence of layers or as a graph.</br>\n",
    "\n",
    "classifier.add(Conv2D(32, (2, 2), input_shape=(224, 224, 3),activation='relu')): It is forming 2 dimensional convulational layer, which takes images of resolution 224*224 as inputs. relu is taken as activation function here.</br>\n",
    "\n",
    "classifier.add(MaxPooling2D(pool_size=(2, 2))): It creates max pooling layer.We use a 2x2 window as it’s the most common. By default stride length is equal to the window size, which is 2 in our case, so we don’t change that.its main function is to reduce the size of volume which makes the computation fast reduces memory and also prevents from overfitting.</br>\n",
    "\n",
    "We again added another convolutional layer.</br>\n",
    "\n",
    "classifier.add(Flatten()): It converts all the resultant 2 dimensional arrays into a single long continuous linear vector.</br>\n",
    "\n",
    "Dense:  It is used to perform the full connection of the neural network.\n",
    "\n"
   ]
  },
  {
   "cell_type": "code",
   "execution_count": 34,
   "metadata": {},
   "outputs": [
    {
     "name": "stdout",
     "output_type": "stream",
     "text": [
      "Found 400 images belonging to 2 classes.\n",
      "Found 100 images belonging to 2 classes.\n",
      "WARNING:tensorflow:sample_weight modes were coerced from\n",
      "  ...\n",
      "    to  \n",
      "  ['...']\n",
      "WARNING:tensorflow:sample_weight modes were coerced from\n",
      "  ...\n",
      "    to  \n",
      "  ['...']\n",
      "Train for 25 steps, validate for 6 steps\n",
      "Epoch 1/10\n",
      "25/25 [==============================] - 21s 851ms/step - loss: 0.1737 - accuracy: 0.9350 - val_loss: 0.2730 - val_accuracy: 0.8854\n",
      "Epoch 2/10\n",
      "25/25 [==============================] - 21s 835ms/step - loss: 0.1556 - accuracy: 0.9300 - val_loss: 0.3973 - val_accuracy: 0.8438\n",
      "Epoch 3/10\n",
      "25/25 [==============================] - 21s 824ms/step - loss: 0.1437 - accuracy: 0.9500 - val_loss: 0.3172 - val_accuracy: 0.8958\n",
      "Epoch 4/10\n",
      "25/25 [==============================] - 20s 799ms/step - loss: 0.1494 - accuracy: 0.9475 - val_loss: 0.3116 - val_accuracy: 0.9167\n",
      "Epoch 5/10\n",
      "25/25 [==============================] - 21s 830ms/step - loss: 0.1225 - accuracy: 0.9475 - val_loss: 0.2812 - val_accuracy: 0.9062\n",
      "Epoch 6/10\n",
      "25/25 [==============================] - 21s 843ms/step - loss: 0.1271 - accuracy: 0.9500 - val_loss: 0.2612 - val_accuracy: 0.9062\n",
      "Epoch 7/10\n",
      "25/25 [==============================] - 21s 834ms/step - loss: 0.1127 - accuracy: 0.9500 - val_loss: 0.2832 - val_accuracy: 0.9167\n",
      "Epoch 8/10\n",
      "25/25 [==============================] - 21s 832ms/step - loss: 0.1003 - accuracy: 0.9450 - val_loss: 0.2953 - val_accuracy: 0.8958\n",
      "Epoch 9/10\n",
      "25/25 [==============================] - 20s 811ms/step - loss: 0.1066 - accuracy: 0.9575 - val_loss: 0.2891 - val_accuracy: 0.9167\n",
      "Epoch 10/10\n",
      "25/25 [==============================] - 21s 834ms/step - loss: 0.0980 - accuracy: 0.9625 - val_loss: 0.4122 - val_accuracy: 0.8438\n"
     ]
    }
   ],
   "source": [
    "classifier.compile(optimizer='adam', loss='binary_crossentropy',\n",
    "                   metrics=['accuracy'])\n",
    "from keras.preprocessing.image import ImageDataGenerator\n",
    "train_imagedata = ImageDataGenerator(rescale=1. / 255, shear_range=0.2,\n",
    "        zoom_range=0.2, horizontal_flip=True)\n",
    "test_imagedata = ImageDataGenerator(rescale=1. / 255)\n",
    "training_set = \\\n",
    "    train_imagedata.flow_from_directory('dataset/dataset/train'\n",
    "        , target_size=(224, 224), batch_size=16, class_mode='binary')\n",
    "val_set = \\\n",
    "    test_imagedata.flow_from_directory('dataset/dataset/test'\n",
    "        , target_size=(224, 224), batch_size=16, class_mode='binary')\n",
    "history=classifier.fit_generator(training_set, steps_per_epoch= 400 // 16, epochs=10,\n",
    "                         validation_data=val_set,\n",
    "                         validation_steps=100  // 16)\n"
   ]
  },
  {
   "cell_type": "markdown",
   "metadata": {},
   "source": [
    "classifier.compile: Compile function is used here that involve use of loss, optimizers and metrics.here loss function used is binary_crossentropy, optimizer used is adam.</br>\n",
    "\n",
    "ImageGenerator: Here, ImageDataGenerator  rescales the image, applies shear in some range, zooms the image and does horizontal flipping with the image. This ImageDataGenerator includes all possible orientation of the image. It is necessary to compare different image for classification.</br>\n",
    "\n",
    "train_imagedata.flow_from_directory: It is used to prepare the data from training dataset directory.</br>\n",
    "\n",
    "\n",
    "test_imagedata.flow_from_directory: It is used to prepare the data from testing dataset directory.</br>\n",
    "\n",
    "classifier.fitenerator: fit_generator is used to fit the data into the model.</br>\n",
    "\n",
    "steps_per_epochs tells us about the number of times the model will execute for the training data in our case 400//16.</br>\n",
    "\n",
    "epochs tells us the number of times model will be trained in forward and backward pass.</br>\n",
    "\n",
    "validation_data is used to feed the test data into the model.</br>\n",
    "validation_steps denotes the number of test samples.</br>\n",
    "\n",
    "After 10 iteration of the model we can observe\n",
    "The average accuracy of model in above 90 which is quite good.\n",
    "The loss is decreasing in every iteration\n",
    "\n",
    "\n",
    "\n",
    "\n",
    "\n",
    "\n",
    "\n",
    "\n"
   ]
  },
  {
   "cell_type": "code",
   "execution_count": 48,
   "metadata": {},
   "outputs": [
    {
     "name": "stdout",
     "output_type": "stream",
     "text": [
      "plane\n"
     ]
    },
    {
     "data": {
      "text/plain": [
       "5.5212506e-12"
      ]
     },
     "execution_count": 48,
     "metadata": {},
     "output_type": "execute_result"
    }
   ],
   "source": [
    "import numpy as np\n",
    "import PIL\n",
    "from PIL import Image\n",
    "from keras.preprocessing import image\n",
    "img= Image.open(r'dataset/dataset/test/planes/2.jpg')\n",
    "img.show()\n",
    "test_image = image.load_img('dataset/dataset/test/planes/2.jpg', target_size = (224, 224))\n",
    "test_image\n",
    "test_image1 = image.img_to_array(test_image)\n",
    "test_image2= np.expand_dims(test_image1, axis = 0)\n",
    "result = classifier.predict(test_image2)\n",
    "training_set.class_indices\n",
    "if result[0][0] == 0:\n",
    " print('car')\n",
    "else:\n",
    " print('plane')\n",
    "result[0][0]\n",
    "\n",
    "\n",
    "\n",
    "\n",
    "    "
   ]
  },
  {
   "cell_type": "markdown",
   "metadata": {},
   "source": [
    " Here we are uploading file from an image directory and trying to predict if it is a car or plane</br>\n",
    " \n",
    " image.load_image: loads data from directory for preprocessing</br>\n",
    " \n",
    " img_to_array: Changes the loaded image into array form </br>\n",
    " \n",
    " np.expand_dims : It expands the shape of array. axis : 0 shows Position in the expanded axes where the new axis is placed.</br>\n",
    " \n",
    " then after using our model we get  binary result. If the result is 0 then the image is of car if not then its plane.\n",
    " \n",
    " \n",
    " \n",
    " \n",
    " "
   ]
  },
  {
   "cell_type": "code",
   "execution_count": 41,
   "metadata": {},
   "outputs": [
    {
     "name": "stdout",
     "output_type": "stream",
     "text": [
      "dict_keys(['loss', 'accuracy', 'val_loss', 'val_accuracy'])\n"
     ]
    },
    {
     "data": {
      "image/png": "[encoded data removed]",
      "text/plain": [
       "<Figure size 432x288 with 1 Axes>"
      ]
     },
     "metadata": {
      "needs_background": "light"
     },
     "output_type": "display_data"
    }
   ],
   "source": [
    "import matplotlib.pyplot as plt\n",
    "print(history.history.keys())\n",
    "plt.plot(history.history['accuracy'])\n",
    "plt.plot(history.history['val_accuracy'])\n",
    "plt.title('model accuracy')\n",
    "plt.ylabel('accuracy')\n",
    "plt.xlabel('epoch')\n",
    "plt.legend(['acc', 'val_acc'], loc='upper left')\n",
    "plt.show()"
   ]
  },
  {
   "cell_type": "markdown",
   "metadata": {},
   "source": [
    "here we are using pyplot to plot the accuracy of model after each epoch.\n",
    "we can se accuracy is increasing  after most epoch\n",
    "But val_ accuracy of model is irregular. It is high at middle epochs where as low in begainning and end.\n",
    "During training, the samples are again split into 2 internal subsets. One which is used for actual training and other which is used for validation after each epoch. val_accuracy shows the accuracy of that validation split data."
   ]
  },
  {
   "cell_type": "markdown",
   "metadata": {},
   "source": [
    "By looking at the difference between accuracy and val accuracy we can clearly say this model suffer from overfitting."
   ]
  },
  {
   "cell_type": "code",
   "execution_count": null,
   "metadata": {},
   "outputs": [],
   "source": []
  },
  {
   "cell_type": "code",
   "execution_count": null,
   "metadata": {},
   "outputs": [],
   "source": []
  },
  {
   "cell_type": "code",
   "execution_count": null,
   "metadata": {},
   "outputs": [],
   "source": []
  }
 ],
 "metadata": {
  "kernelspec": {
   "display_name": "Python 3",
   "language": "python",
   "name": "python3"
  },
  "language_info": {
   "codemirror_mode": {
    "name": "ipython",
    "version": 3
   },
   "file_extension": ".py",
   "mimetype": "text/x-python",
   "name": "python",
   "nbconvert_exporter": "python",
   "pygments_lexer": "ipython3",
   "version": "3.7.3"
  }
 },
 "nbformat": 4,
 "nbformat_minor": 2
}
