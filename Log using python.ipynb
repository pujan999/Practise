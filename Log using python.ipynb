{
 "cells": [
  {
   "cell_type": "markdown",
   "metadata": {},
   "source": [
    "Name: Pujan Sharma\n",
    "ID: 1928447"
   ]
  },
  {
   "cell_type": "code",
   "execution_count": 94,
   "metadata": {},
   "outputs": [],
   "source": [
    "def ln(x):\n",
    "    n=100000000\n",
    "    return n*(x**(1/n)-1)\n"
   ]
  },
  {
   "cell_type": "code",
   "execution_count": 95,
   "metadata": {},
   "outputs": [],
   "source": [
    "def log(x,base):\n",
    "    return(ln(x)/ln(base))"
   ]
  },
  {
   "cell_type": "code",
   "execution_count": 96,
   "metadata": {},
   "outputs": [
    {
     "data": {
      "text/plain": [
       "3.0"
      ]
     },
     "execution_count": 96,
     "metadata": {},
     "output_type": "execute_result"
    }
   ],
   "source": [
    "log(8,2)"
   ]
  },
  {
   "cell_type": "markdown",
   "metadata": {},
   "source": [
    "when we put n= 100000000 we get log of x( here 8) with base 2 in integer answer that is 3 but if we put value of n other than 100000000 we get answer in float value. for eg when n is 100 we get log of 8 with base 2 as 3.02091502984673 "
   ]
  },
  {
   "cell_type": "code",
   "execution_count": 97,
   "metadata": {},
   "outputs": [],
   "source": [
    "def ln(X):\n",
    "    num = 100\n",
    "    formula=((-1)**(num-1)*(X-1)**num)/num\n",
    "    res = 0\n",
    "    for x in range (1,num):\n",
    "             res= res+formula\n",
    "             return res"
   ]
  },
  {
   "cell_type": "code",
   "execution_count": 98,
   "metadata": {},
   "outputs": [],
   "source": [
    "def log(x,base):\n",
    "    return ln(x)/ln(base)"
   ]
  },
  {
   "cell_type": "code",
   "execution_count": 100,
   "metadata": {},
   "outputs": [
    {
     "name": "stdout",
     "output_type": "stream",
     "text": [
      "value of x: 8\n",
      "value of base: 2\n"
     ]
    },
    {
     "data": {
      "text/plain": [
       "3.234476509624758e+84"
      ]
     },
     "execution_count": 100,
     "metadata": {},
     "output_type": "execute_result"
    }
   ],
   "source": [
    "log(int(input(\"value of x: \")),int(input(\"value of base: \")))"
   ]
  },
  {
   "cell_type": "markdown",
   "metadata": {},
   "source": [
    "Basic python techinque to find log value of any base. here we are using built in function math.log"
   ]
  },
  {
   "cell_type": "code",
   "execution_count": 101,
   "metadata": {},
   "outputs": [],
   "source": [
    "import math"
   ]
  },
  {
   "cell_type": "code",
   "execution_count": 134,
   "metadata": {},
   "outputs": [
    {
     "name": "stdout",
     "output_type": "stream",
     "text": [
      "value of base: 3\n",
      "value of y: 9\n",
      "log base 3 of  9 is:2.0\n"
     ]
    }
   ],
   "source": [
    "base=int(input(\"value of base: \"))\n",
    "y=int(input(\"value of y: \"))\n",
    "print(\"log base\",base , \"of \",y, \"is:\", end=\"\")\n",
    "print(math.log(y,base))\n"
   ]
  },
  {
   "cell_type": "code",
   "execution_count": null,
   "metadata": {},
   "outputs": [],
   "source": []
  }
 ],
 "metadata": {
  "kernelspec": {
   "display_name": "Python 3",
   "language": "python",
   "name": "python3"
  },
  "language_info": {
   "codemirror_mode": {
    "name": "ipython",
    "version": 3
   },
   "file_extension": ".py",
   "mimetype": "text/x-python",
   "name": "python",
   "nbconvert_exporter": "python",
   "pygments_lexer": "ipython3",
   "version": "3.7.3"
  }
 },
 "nbformat": 4,
 "nbformat_minor": 2
}
